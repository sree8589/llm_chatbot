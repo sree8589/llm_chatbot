{
 "cells": [
  {
   "cell_type": "code",
   "execution_count": 3,
   "metadata": {},
   "outputs": [
    {
     "name": "stdout",
     "output_type": "stream",
     "text": [
      "3.8.19 (default, Mar 20 2024, 19:55:45) [MSC v.1916 64 bit (AMD64)]\n"
     ]
    }
   ],
   "source": [
    "import sys\n",
    "print(sys.version)"
   ]
  },
  {
   "cell_type": "code",
   "execution_count": 6,
   "metadata": {},
   "outputs": [
    {
     "name": "stdout",
     "output_type": "stream",
     "text": [
      "0.0.27\n"
     ]
    }
   ],
   "source": [
    "import langchain\n",
    "print(langchain.__version__)\n"
   ]
  },
  {
   "cell_type": "code",
   "execution_count": 7,
   "metadata": {},
   "outputs": [
    {
     "name": "stdout",
     "output_type": "stream",
     "text": [
      "Collecting langchain==0.0.225\n",
      "  Downloading langchain-0.0.225-py3-none-any.whl.metadata (13 kB)\n",
      "Requirement already satisfied: PyYAML>=5.4.1 in c:\\users\\sree\\jupiter\\envs\\mbot\\lib\\site-packages (from langchain==0.0.225) (6.0.2)\n",
      "Requirement already satisfied: SQLAlchemy<3,>=1.4 in c:\\users\\sree\\jupiter\\envs\\mbot\\lib\\site-packages (from langchain==0.0.225) (2.0.32)\n",
      "Collecting aiohttp<4.0.0,>=3.8.3 (from langchain==0.0.225)\n",
      "  Downloading aiohttp-3.10.5-cp38-cp38-win_amd64.whl.metadata (7.8 kB)\n",
      "Collecting async-timeout<5.0.0,>=4.0.0 (from langchain==0.0.225)\n",
      "  Using cached async_timeout-4.0.3-py3-none-any.whl.metadata (4.2 kB)\n",
      "Collecting dataclasses-json<0.6.0,>=0.5.7 (from langchain==0.0.225)\n",
      "  Downloading dataclasses_json-0.5.14-py3-none-any.whl.metadata (22 kB)\n",
      "Collecting langchainplus-sdk<0.0.21,>=0.0.20 (from langchain==0.0.225)\n",
      "  Downloading langchainplus_sdk-0.0.20-py3-none-any.whl.metadata (8.7 kB)\n",
      "Collecting numexpr<3.0.0,>=2.8.4 (from langchain==0.0.225)\n",
      "  Downloading numexpr-2.8.6-cp38-cp38-win_amd64.whl.metadata (8.2 kB)\n",
      "Requirement already satisfied: numpy<2,>=1 in c:\\users\\sree\\jupiter\\envs\\mbot\\lib\\site-packages (from langchain==0.0.225) (1.24.4)\n",
      "Collecting openapi-schema-pydantic<2.0,>=1.2 (from langchain==0.0.225)\n",
      "  Downloading openapi_schema_pydantic-1.2.4-py3-none-any.whl.metadata (8.5 kB)\n",
      "Requirement already satisfied: pydantic<2,>=1 in c:\\users\\sree\\jupiter\\envs\\mbot\\lib\\site-packages (from langchain==0.0.225) (1.10.9)\n",
      "Requirement already satisfied: requests<3,>=2 in c:\\users\\sree\\jupiter\\envs\\mbot\\lib\\site-packages (from langchain==0.0.225) (2.32.3)\n",
      "Collecting tenacity<9.0.0,>=8.1.0 (from langchain==0.0.225)\n",
      "  Downloading tenacity-8.5.0-py3-none-any.whl.metadata (1.2 kB)\n",
      "Collecting aiohappyeyeballs>=2.3.0 (from aiohttp<4.0.0,>=3.8.3->langchain==0.0.225)\n",
      "  Downloading aiohappyeyeballs-2.4.0-py3-none-any.whl.metadata (5.9 kB)\n",
      "Collecting aiosignal>=1.1.2 (from aiohttp<4.0.0,>=3.8.3->langchain==0.0.225)\n",
      "  Using cached aiosignal-1.3.1-py3-none-any.whl.metadata (4.0 kB)\n",
      "Collecting attrs>=17.3.0 (from aiohttp<4.0.0,>=3.8.3->langchain==0.0.225)\n",
      "  Downloading attrs-24.2.0-py3-none-any.whl.metadata (11 kB)\n",
      "Collecting frozenlist>=1.1.1 (from aiohttp<4.0.0,>=3.8.3->langchain==0.0.225)\n",
      "  Using cached frozenlist-1.4.1-cp38-cp38-win_amd64.whl.metadata (12 kB)\n",
      "Collecting multidict<7.0,>=4.5 (from aiohttp<4.0.0,>=3.8.3->langchain==0.0.225)\n",
      "  Using cached multidict-6.0.5-cp38-cp38-win_amd64.whl.metadata (4.3 kB)\n",
      "Collecting yarl<2.0,>=1.0 (from aiohttp<4.0.0,>=3.8.3->langchain==0.0.225)\n",
      "  Using cached yarl-1.9.4-cp38-cp38-win_amd64.whl.metadata (32 kB)\n",
      "Collecting marshmallow<4.0.0,>=3.18.0 (from dataclasses-json<0.6.0,>=0.5.7->langchain==0.0.225)\n",
      "  Downloading marshmallow-3.22.0-py3-none-any.whl.metadata (7.2 kB)\n",
      "Collecting typing-inspect<1,>=0.4.0 (from dataclasses-json<0.6.0,>=0.5.7->langchain==0.0.225)\n",
      "  Downloading typing_inspect-0.9.0-py3-none-any.whl.metadata (1.5 kB)\n",
      "Requirement already satisfied: typing-extensions>=4.2.0 in c:\\users\\sree\\jupiter\\envs\\mbot\\lib\\site-packages (from pydantic<2,>=1->langchain==0.0.225) (4.12.2)\n",
      "Requirement already satisfied: charset-normalizer<4,>=2 in c:\\users\\sree\\jupiter\\envs\\mbot\\lib\\site-packages (from requests<3,>=2->langchain==0.0.225) (3.3.2)\n",
      "Requirement already satisfied: idna<4,>=2.5 in c:\\users\\sree\\jupiter\\envs\\mbot\\lib\\site-packages (from requests<3,>=2->langchain==0.0.225) (3.8)\n",
      "Requirement already satisfied: urllib3<3,>=1.21.1 in c:\\users\\sree\\jupiter\\envs\\mbot\\lib\\site-packages (from requests<3,>=2->langchain==0.0.225) (2.2.2)\n",
      "Requirement already satisfied: certifi>=2017.4.17 in c:\\users\\sree\\jupiter\\envs\\mbot\\lib\\site-packages (from requests<3,>=2->langchain==0.0.225) (2024.7.4)\n",
      "Requirement already satisfied: greenlet!=0.4.17 in c:\\users\\sree\\jupiter\\envs\\mbot\\lib\\site-packages (from SQLAlchemy<3,>=1.4->langchain==0.0.225) (3.0.3)\n",
      "Requirement already satisfied: packaging>=17.0 in c:\\users\\sree\\jupiter\\envs\\mbot\\lib\\site-packages (from marshmallow<4.0.0,>=3.18.0->dataclasses-json<0.6.0,>=0.5.7->langchain==0.0.225) (24.1)\n",
      "Collecting mypy-extensions>=0.3.0 (from typing-inspect<1,>=0.4.0->dataclasses-json<0.6.0,>=0.5.7->langchain==0.0.225)\n",
      "  Using cached mypy_extensions-1.0.0-py3-none-any.whl.metadata (1.1 kB)\n",
      "Downloading langchain-0.0.225-py3-none-any.whl (1.2 MB)\n",
      "   ---------------------------------------- 0.0/1.2 MB ? eta -:--:--\n",
      "   ---------------------------------- ----- 1.0/1.2 MB 8.5 MB/s eta 0:00:01\n",
      "   ---------------------------------------- 1.2/1.2 MB 7.7 MB/s eta 0:00:00\n",
      "Downloading aiohttp-3.10.5-cp38-cp38-win_amd64.whl (381 kB)\n",
      "Using cached async_timeout-4.0.3-py3-none-any.whl (5.7 kB)\n",
      "Downloading dataclasses_json-0.5.14-py3-none-any.whl (26 kB)\n",
      "Downloading langchainplus_sdk-0.0.20-py3-none-any.whl (25 kB)\n",
      "Downloading numexpr-2.8.6-cp38-cp38-win_amd64.whl (94 kB)\n",
      "Downloading openapi_schema_pydantic-1.2.4-py3-none-any.whl (90 kB)\n",
      "Downloading tenacity-8.5.0-py3-none-any.whl (28 kB)\n",
      "Downloading aiohappyeyeballs-2.4.0-py3-none-any.whl (12 kB)\n",
      "Using cached aiosignal-1.3.1-py3-none-any.whl (7.6 kB)\n",
      "Downloading attrs-24.2.0-py3-none-any.whl (63 kB)\n",
      "Using cached frozenlist-1.4.1-cp38-cp38-win_amd64.whl (50 kB)\n",
      "Downloading marshmallow-3.22.0-py3-none-any.whl (49 kB)\n",
      "Using cached multidict-6.0.5-cp38-cp38-win_amd64.whl (28 kB)\n",
      "Downloading typing_inspect-0.9.0-py3-none-any.whl (8.8 kB)\n",
      "Using cached yarl-1.9.4-cp38-cp38-win_amd64.whl (77 kB)\n",
      "Using cached mypy_extensions-1.0.0-py3-none-any.whl (4.7 kB)\n",
      "Installing collected packages: tenacity, numexpr, mypy-extensions, multidict, marshmallow, frozenlist, attrs, async-timeout, aiohappyeyeballs, yarl, typing-inspect, openapi-schema-pydantic, langchainplus-sdk, aiosignal, dataclasses-json, aiohttp, langchain\n",
      "  Attempting uninstall: langchain\n",
      "    Found existing installation: langchain 0.0.25\n",
      "    Uninstalling langchain-0.0.25:\n",
      "      Successfully uninstalled langchain-0.0.25\n",
      "Successfully installed aiohappyeyeballs-2.4.0 aiohttp-3.10.5 aiosignal-1.3.1 async-timeout-4.0.3 attrs-24.2.0 dataclasses-json-0.5.14 frozenlist-1.4.1 langchain-0.0.225 langchainplus-sdk-0.0.20 marshmallow-3.22.0 multidict-6.0.5 mypy-extensions-1.0.0 numexpr-2.8.6 openapi-schema-pydantic-1.2.4 tenacity-8.5.0 typing-inspect-0.9.0 yarl-1.9.4\n",
      "Note: you may need to restart the kernel to use updated packages.\n"
     ]
    }
   ],
   "source": [
    "pip install langchain==0.0.225"
   ]
  },
  {
   "cell_type": "code",
   "execution_count": 8,
   "metadata": {},
   "outputs": [
    {
     "name": "stdout",
     "output_type": "stream",
     "text": [
      "Requirement already satisfied: langchain in c:\\users\\sree\\jupiter\\envs\\mbot\\lib\\site-packages (0.0.27)\n",
      "Requirement already satisfied: pinecone-client in c:\\users\\sree\\jupiter\\envs\\mbot\\lib\\site-packages (5.0.1)\n",
      "Collecting PyMuPDF\n",
      "  Downloading PyMuPDF-1.24.9-cp38-none-win_amd64.whl.metadata (3.4 kB)\n",
      "Requirement already satisfied: pydantic in c:\\users\\sree\\jupiter\\envs\\mbot\\lib\\site-packages (from langchain) (1.10.9)\n",
      "Requirement already satisfied: sqlalchemy in c:\\users\\sree\\jupiter\\envs\\mbot\\lib\\site-packages (from langchain) (2.0.32)\n",
      "Requirement already satisfied: numpy in c:\\users\\sree\\jupiter\\envs\\mbot\\lib\\site-packages (from langchain) (1.24.4)\n",
      "Requirement already satisfied: requests in c:\\users\\sree\\jupiter\\envs\\mbot\\lib\\site-packages (from langchain) (2.32.3)\n",
      "Requirement already satisfied: pyyaml in c:\\users\\sree\\jupiter\\envs\\mbot\\lib\\site-packages (from langchain) (6.0.2)\n",
      "Requirement already satisfied: certifi>=2019.11.17 in c:\\users\\sree\\jupiter\\envs\\mbot\\lib\\site-packages (from pinecone-client) (2024.7.4)\n",
      "Requirement already satisfied: pinecone-plugin-inference<2.0.0,>=1.0.3 in c:\\users\\sree\\jupiter\\envs\\mbot\\lib\\site-packages (from pinecone-client) (1.0.3)\n",
      "Requirement already satisfied: pinecone-plugin-interface<0.0.8,>=0.0.7 in c:\\users\\sree\\jupiter\\envs\\mbot\\lib\\site-packages (from pinecone-client) (0.0.7)\n",
      "Requirement already satisfied: tqdm>=4.64.1 in c:\\users\\sree\\jupiter\\envs\\mbot\\lib\\site-packages (from pinecone-client) (4.66.5)\n",
      "Requirement already satisfied: typing-extensions>=3.7.4 in c:\\users\\sree\\jupiter\\envs\\mbot\\lib\\site-packages (from pinecone-client) (4.12.2)\n",
      "Requirement already satisfied: urllib3>=1.26.0 in c:\\users\\sree\\jupiter\\envs\\mbot\\lib\\site-packages (from pinecone-client) (2.2.2)\n",
      "Collecting PyMuPDFb==1.24.9 (from PyMuPDF)\n",
      "  Downloading PyMuPDFb-1.24.9-py3-none-win_amd64.whl.metadata (1.4 kB)\n",
      "Requirement already satisfied: colorama in c:\\users\\sree\\jupiter\\envs\\mbot\\lib\\site-packages (from tqdm>=4.64.1->pinecone-client) (0.4.6)\n",
      "Requirement already satisfied: charset-normalizer<4,>=2 in c:\\users\\sree\\jupiter\\envs\\mbot\\lib\\site-packages (from requests->langchain) (3.3.2)\n",
      "Requirement already satisfied: idna<4,>=2.5 in c:\\users\\sree\\jupiter\\envs\\mbot\\lib\\site-packages (from requests->langchain) (3.8)\n",
      "Requirement already satisfied: greenlet!=0.4.17 in c:\\users\\sree\\jupiter\\envs\\mbot\\lib\\site-packages (from sqlalchemy->langchain) (3.0.3)\n",
      "Downloading PyMuPDF-1.24.9-cp38-none-win_amd64.whl (3.2 MB)\n",
      "   ---------------------------------------- 0.0/3.2 MB ? eta -:--:--\n",
      "   ------ --------------------------------- 0.5/3.2 MB 4.2 MB/s eta 0:00:01\n",
      "   ---------------------- ----------------- 1.8/3.2 MB 5.3 MB/s eta 0:00:01\n",
      "   ---------------------------------------- 3.2/3.2 MB 5.5 MB/s eta 0:00:00\n",
      "Downloading PyMuPDFb-1.24.9-py3-none-win_amd64.whl (13.2 MB)\n",
      "   ---------------------------------------- 0.0/13.2 MB ? eta -:--:--\n",
      "   ---- ----------------------------------- 1.6/13.2 MB 7.6 MB/s eta 0:00:02\n",
      "   ----------- ---------------------------- 3.9/13.2 MB 9.4 MB/s eta 0:00:01\n",
      "   ------------------- -------------------- 6.6/13.2 MB 10.3 MB/s eta 0:00:01\n",
      "   ------------------------------ --------- 10.0/13.2 MB 11.7 MB/s eta 0:00:01\n",
      "   ---------------------------------------  13.1/13.2 MB 12.5 MB/s eta 0:00:01\n",
      "   ---------------------------------------- 13.2/13.2 MB 12.2 MB/s eta 0:00:00\n",
      "Installing collected packages: PyMuPDFb, PyMuPDF\n",
      "Successfully installed PyMuPDF-1.24.9 PyMuPDFb-1.24.9\n",
      "Note: you may need to restart the kernel to use updated packages.\n"
     ]
    }
   ],
   "source": [
    "pip install langchain pinecone-client PyMuPDF\n"
   ]
  },
  {
   "cell_type": "code",
   "execution_count": 2,
   "metadata": {},
   "outputs": [
    {
     "name": "stderr",
     "output_type": "stream",
     "text": [
      "c:\\Users\\sree\\jupiter\\envs\\mbot\\lib\\site-packages\\pinecone\\data\\index.py:1: TqdmWarning: IProgress not found. Please update jupyter and ipywidgets. See https://ipywidgets.readthedocs.io/en/stable/user_install.html\n",
      "  from tqdm.autonotebook import tqdm\n"
     ]
    }
   ],
   "source": [
    "from langchain import PromptTemplate\n",
    "from langchain.chains import RetrievalQA\n",
    "from langchain.embeddings import HuggingFaceEmbeddings\n",
    "import pinecone\n",
    "from langchain.document_loaders import PyMuPDFLoader, DirectoryLoader\n",
    "from langchain.text_splitter import RecursiveCharacterTextSplitter\n",
    "from langchain.prompts import PromptTemplate\n",
    "from langchain.llms import CTransformers"
   ]
  },
  {
   "cell_type": "code",
   "execution_count": null,
   "metadata": {},
   "outputs": [],
   "source": []
  }
 ],
 "metadata": {
  "kernelspec": {
   "display_name": "mbot",
   "language": "python",
   "name": "python3"
  },
  "language_info": {
   "codemirror_mode": {
    "name": "ipython",
    "version": 3
   },
   "file_extension": ".py",
   "mimetype": "text/x-python",
   "name": "python",
   "nbconvert_exporter": "python",
   "pygments_lexer": "ipython3",
   "version": "3.8.19"
  }
 },
 "nbformat": 4,
 "nbformat_minor": 2
}
